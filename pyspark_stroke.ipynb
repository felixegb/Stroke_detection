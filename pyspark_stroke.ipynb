{
 "cells": [
  {
   "cell_type": "code",
   "execution_count": 2,
   "metadata": {},
   "outputs": [],
   "source": [
    "import pyspark\n",
    "import pandas as pd\n",
    "from pyspark.sql import SparkSession"
   ]
  },
  {
   "cell_type": "code",
   "execution_count": 3,
   "metadata": {},
   "outputs": [],
   "source": [
    "spark = SparkSession.builder.appName('SesionPractica5').getOrCreate()\n",
    "df_spark = spark.read.csv('healthcare-dataset-stroke-data.csv', header = True, inferSchema=True)"
   ]
  },
  {
   "cell_type": "code",
   "execution_count": 4,
   "metadata": {},
   "outputs": [
    {
     "name": "stdout",
     "output_type": "stream",
     "text": [
      "root\n",
      " |-- id: integer (nullable = true)\n",
      " |-- gender: string (nullable = true)\n",
      " |-- age: double (nullable = true)\n",
      " |-- hypertension: integer (nullable = true)\n",
      " |-- heart_disease: integer (nullable = true)\n",
      " |-- ever_married: string (nullable = true)\n",
      " |-- work_type: string (nullable = true)\n",
      " |-- Residence_type: string (nullable = true)\n",
      " |-- avg_glucose_level: double (nullable = true)\n",
      " |-- bmi: string (nullable = true)\n",
      " |-- smoking_status: string (nullable = true)\n",
      " |-- stroke: integer (nullable = true)\n",
      "\n"
     ]
    }
   ],
   "source": [
    "df_spark.printSchema()"
   ]
  },
  {
   "cell_type": "code",
   "execution_count": 5,
   "metadata": {},
   "outputs": [
    {
     "name": "stdout",
     "output_type": "stream",
     "text": [
      "+-----+------+----+------------+-------------+------------+-------------+--------------+-----------------+----+---------------+------+\n",
      "|   id|gender| age|hypertension|heart_disease|ever_married|    work_type|Residence_type|avg_glucose_level| bmi| smoking_status|stroke|\n",
      "+-----+------+----+------------+-------------+------------+-------------+--------------+-----------------+----+---------------+------+\n",
      "| 9046|  Male|67.0|           0|            1|         Yes|      Private|         Urban|           228.69|36.6|formerly smoked|     1|\n",
      "|51676|Female|61.0|           0|            0|         Yes|Self-employed|         Rural|           202.21| N/A|   never smoked|     1|\n",
      "|31112|  Male|80.0|           0|            1|         Yes|      Private|         Rural|           105.92|32.5|   never smoked|     1|\n",
      "|60182|Female|49.0|           0|            0|         Yes|      Private|         Urban|           171.23|34.4|         smokes|     1|\n",
      "| 1665|Female|79.0|           1|            0|         Yes|Self-employed|         Rural|           174.12|  24|   never smoked|     1|\n",
      "+-----+------+----+------------+-------------+------------+-------------+--------------+-----------------+----+---------------+------+\n",
      "only showing top 5 rows\n",
      "\n"
     ]
    }
   ],
   "source": [
    "df_spark.show(5)"
   ]
  },
  {
   "cell_type": "code",
   "execution_count": 6,
   "metadata": {},
   "outputs": [
    {
     "name": "stdout",
     "output_type": "stream",
     "text": [
      "+-------+-----------------+------+------------------+------------------+-------------------+------------+---------+--------------+------------------+------------------+--------------+-------------------+\n",
      "|summary|               id|gender|               age|      hypertension|      heart_disease|ever_married|work_type|Residence_type| avg_glucose_level|               bmi|smoking_status|             stroke|\n",
      "+-------+-----------------+------+------------------+------------------+-------------------+------------+---------+--------------+------------------+------------------+--------------+-------------------+\n",
      "|  count|             5110|  5110|              5110|              5110|               5110|        5110|     5110|          5110|              5110|              5110|          5110|               5110|\n",
      "|   mean|36517.82935420744|  NULL|43.226614481409015|0.0974559686888454|0.05401174168297456|        NULL|     NULL|          NULL|106.14767710371804|28.893236911794673|          NULL| 0.0487279843444227|\n",
      "| stddev|21161.72162482715|  NULL| 22.61264672311348| 0.296606674233791|0.22606298750336554|        NULL|     NULL|          NULL| 45.28356015058193|  7.85406672968016|          NULL|0.21531985698023753|\n",
      "|    min|               67|Female|              0.08|                 0|                  0|          No| Govt_job|         Rural|             55.12|              10.3|       Unknown|                  0|\n",
      "|    max|            72940| Other|              82.0|                 1|                  1|         Yes| children|         Urban|            271.74|               N/A|        smokes|                  1|\n",
      "+-------+-----------------+------+------------------+------------------+-------------------+------------+---------+--------------+------------------+------------------+--------------+-------------------+\n",
      "\n"
     ]
    }
   ],
   "source": [
    "df_spark.describe().show()"
   ]
  },
  {
   "cell_type": "code",
   "execution_count": 13,
   "metadata": {},
   "outputs": [],
   "source": [
    "df = df_spark"
   ]
  },
  {
   "cell_type": "code",
   "execution_count": 7,
   "metadata": {},
   "outputs": [],
   "source": [
    "df_prediction = df_spark.select('gender','age','hypertension','heart_disease','Residence_type','avg_glucose_level','bmi','smoking_status','stroke')"
   ]
  },
  {
   "cell_type": "code",
   "execution_count": 8,
   "metadata": {},
   "outputs": [
    {
     "name": "stdout",
     "output_type": "stream",
     "text": [
      "+------+----+------------+-------------+--------------+-----------------+----+---------------+------+\n",
      "|gender| age|hypertension|heart_disease|Residence_type|avg_glucose_level| bmi| smoking_status|stroke|\n",
      "+------+----+------------+-------------+--------------+-----------------+----+---------------+------+\n",
      "|  Male|67.0|           0|            1|         Urban|           228.69|36.6|formerly smoked|     1|\n",
      "|Female|61.0|           0|            0|         Rural|           202.21| N/A|   never smoked|     1|\n",
      "|  Male|80.0|           0|            1|         Rural|           105.92|32.5|   never smoked|     1|\n",
      "|Female|49.0|           0|            0|         Urban|           171.23|34.4|         smokes|     1|\n",
      "|Female|79.0|           1|            0|         Rural|           174.12|  24|   never smoked|     1|\n",
      "+------+----+------------+-------------+--------------+-----------------+----+---------------+------+\n",
      "only showing top 5 rows\n",
      "\n"
     ]
    }
   ],
   "source": [
    "df_prediction.show(5)"
   ]
  },
  {
   "cell_type": "code",
   "execution_count": 9,
   "metadata": {},
   "outputs": [
    {
     "name": "stdout",
     "output_type": "stream",
     "text": [
      "+---------------+-----+\n",
      "| smoking_status|count|\n",
      "+---------------+-----+\n",
      "|         smokes|  789|\n",
      "|        Unknown| 1544|\n",
      "|   never smoked| 1892|\n",
      "|formerly smoked|  885|\n",
      "+---------------+-----+\n",
      "\n"
     ]
    }
   ],
   "source": [
    "df_prediction.groupBy('smoking_status').count().show()"
   ]
  },
  {
   "cell_type": "code",
   "execution_count": 10,
   "metadata": {},
   "outputs": [
    {
     "name": "stdout",
     "output_type": "stream",
     "text": [
      "+------+--------------+---------------+-----+\n",
      "|gender|Residence_type| smoking_status|count|\n",
      "+------+--------------+---------------+-----+\n",
      "|Female|         Urban|         smokes|  243|\n",
      "|Female|         Rural|formerly smoked|  227|\n",
      "|  Male|         Urban|         smokes|  183|\n",
      "|Female|         Urban|   never smoked|  618|\n",
      "|Female|         Rural|   never smoked|  611|\n",
      "|Female|         Urban|        Unknown|  418|\n",
      "|  Male|         Rural|formerly smoked|  200|\n",
      "|Female|         Rural|         smokes|  209|\n",
      "| Other|         Rural|formerly smoked|    1|\n",
      "|  Male|         Urban|        Unknown|  364|\n",
      "|  Male|         Rural|   never smoked|  350|\n",
      "|Female|         Urban|formerly smoked|  250|\n",
      "|  Male|         Urban|   never smoked|  313|\n",
      "|  Male|         Rural|         smokes|  154|\n",
      "|Female|         Rural|        Unknown|  418|\n",
      "|  Male|         Rural|        Unknown|  344|\n",
      "|  Male|         Urban|formerly smoked|  207|\n",
      "+------+--------------+---------------+-----+\n",
      "\n"
     ]
    }
   ],
   "source": [
    "df_prediction.groupBy(['gender','Residence_type','smoking_status']).count().show()"
   ]
  },
  {
   "cell_type": "code",
   "execution_count": 12,
   "metadata": {},
   "outputs": [],
   "source": [
    "from pyspark.ml.feature import VectorAssembler, StringIndexer, StandardScaler\n",
    "from pyspark.ml.classification import LogisticRegression, DecisionTreeClassifier\n",
    "\n",
    "genderEncoder = StringIndexer(inputCols=['gender','Residence_type','smoking_status'], outputCols=['indexer_gender','indexer_Residence_type','indexer_smoking_status']).fit(df_prediction)"
   ]
  },
  {
   "cell_type": "code",
   "execution_count": 14,
   "metadata": {},
   "outputs": [],
   "source": [
    "df_prediction_indexer = genderEncoder.transform(df_prediction)"
   ]
  },
  {
   "cell_type": "code",
   "execution_count": 15,
   "metadata": {},
   "outputs": [
    {
     "name": "stdout",
     "output_type": "stream",
     "text": [
      "+------+----+------------+-------------+--------------+-----------------+----+---------------+------+--------------+----------------------+----------------------+\n",
      "|gender| age|hypertension|heart_disease|Residence_type|avg_glucose_level| bmi| smoking_status|stroke|indexer_gender|indexer_Residence_type|indexer_smoking_status|\n",
      "+------+----+------------+-------------+--------------+-----------------+----+---------------+------+--------------+----------------------+----------------------+\n",
      "|  Male|67.0|           0|            1|         Urban|           228.69|36.6|formerly smoked|     1|           1.0|                   0.0|                   2.0|\n",
      "|Female|61.0|           0|            0|         Rural|           202.21| N/A|   never smoked|     1|           0.0|                   1.0|                   0.0|\n",
      "|  Male|80.0|           0|            1|         Rural|           105.92|32.5|   never smoked|     1|           1.0|                   1.0|                   0.0|\n",
      "|Female|49.0|           0|            0|         Urban|           171.23|34.4|         smokes|     1|           0.0|                   0.0|                   3.0|\n",
      "|Female|79.0|           1|            0|         Rural|           174.12|  24|   never smoked|     1|           0.0|                   1.0|                   0.0|\n",
      "+------+----+------------+-------------+--------------+-----------------+----+---------------+------+--------------+----------------------+----------------------+\n",
      "only showing top 5 rows\n",
      "\n"
     ]
    }
   ],
   "source": [
    "df_prediction_indexer.show(5)"
   ]
  },
  {
   "cell_type": "code",
   "execution_count": 16,
   "metadata": {},
   "outputs": [],
   "source": [
    "df = df_prediction_indexer.select('indexer_gender','age','hypertension','heart_disease','indexer_Residence_type','avg_glucose_level','bmi','indexer_smoking_status','stroke')"
   ]
  },
  {
   "cell_type": "code",
   "execution_count": 17,
   "metadata": {},
   "outputs": [
    {
     "name": "stdout",
     "output_type": "stream",
     "text": [
      "+---+-----+\n",
      "|BMI|count|\n",
      "+---+-----+\n",
      "|N/A|  201|\n",
      "+---+-----+\n",
      "\n"
     ]
    }
   ],
   "source": [
    "from pyspark.sql.functions import col\n",
    "\n",
    "df_na = df.filter(col(\"BMI\") == \"N/A\")\n",
    "df_na.groupBy('BMI').count().show()"
   ]
  },
  {
   "cell_type": "code",
   "execution_count": 18,
   "metadata": {},
   "outputs": [
    {
     "name": "stdout",
     "output_type": "stream",
     "text": [
      "+--------------+----+------------+-------------+----------------------+-----------------+----+----------------------+------+\n",
      "|indexer_gender| age|hypertension|heart_disease|indexer_Residence_type|avg_glucose_level| bmi|indexer_smoking_status|stroke|\n",
      "+--------------+----+------------+-------------+----------------------+-----------------+----+----------------------+------+\n",
      "|           1.0|67.0|           0|            1|                   0.0|           228.69|36.6|                   2.0|     1|\n",
      "|           1.0|80.0|           0|            1|                   1.0|           105.92|32.5|                   0.0|     1|\n",
      "|           0.0|49.0|           0|            0|                   0.0|           171.23|34.4|                   3.0|     1|\n",
      "|           0.0|79.0|           1|            0|                   1.0|           174.12|  24|                   0.0|     1|\n",
      "|           1.0|81.0|           0|            0|                   0.0|           186.21|  29|                   2.0|     1|\n",
      "+--------------+----+------------+-------------+----------------------+-----------------+----+----------------------+------+\n",
      "only showing top 5 rows\n",
      "\n"
     ]
    }
   ],
   "source": [
    "df = df.where(col(\"BMI\") != \"N/A\")\n",
    "df.show(5)"
   ]
  },
  {
   "cell_type": "code",
   "execution_count": 19,
   "metadata": {},
   "outputs": [],
   "source": [
    "from pyspark.sql.types import DoubleType\n",
    "df = df.withColumn(\"bmi\", col(\"bmi\").cast(DoubleType()))"
   ]
  },
  {
   "cell_type": "code",
   "execution_count": 20,
   "metadata": {},
   "outputs": [],
   "source": [
    "columns = df.columns\n",
    "columns.remove('stroke')\n",
    "VectorAss = VectorAssembler(inputCols=columns, outputCol='features')\n",
    "vec = VectorAss.transform(df)"
   ]
  },
  {
   "cell_type": "code",
   "execution_count": 21,
   "metadata": {},
   "outputs": [
    {
     "name": "stdout",
     "output_type": "stream",
     "text": [
      "+--------------+----+------------+-------------+----------------------+-----------------+----+----------------------+------+--------------------+\n",
      "|indexer_gender| age|hypertension|heart_disease|indexer_Residence_type|avg_glucose_level| bmi|indexer_smoking_status|stroke|            features|\n",
      "+--------------+----+------------+-------------+----------------------+-----------------+----+----------------------+------+--------------------+\n",
      "|           1.0|67.0|           0|            1|                   0.0|           228.69|36.6|                   2.0|     1|[1.0,67.0,0.0,1.0...|\n",
      "|           1.0|80.0|           0|            1|                   1.0|           105.92|32.5|                   0.0|     1|[1.0,80.0,0.0,1.0...|\n",
      "|           0.0|49.0|           0|            0|                   0.0|           171.23|34.4|                   3.0|     1|(8,[1,5,6,7],[49....|\n",
      "+--------------+----+------------+-------------+----------------------+-----------------+----+----------------------+------+--------------------+\n",
      "only showing top 3 rows\n",
      "\n"
     ]
    }
   ],
   "source": [
    "vec.show(3)"
   ]
  },
  {
   "cell_type": "code",
   "execution_count": 22,
   "metadata": {},
   "outputs": [
    {
     "data": {
      "text/plain": [
       "[Row(features=DenseVector([1.0, 67.0, 0.0, 1.0, 0.0, 228.69, 36.6, 2.0])),\n",
       " Row(features=DenseVector([1.0, 80.0, 0.0, 1.0, 1.0, 105.92, 32.5, 0.0])),\n",
       " Row(features=SparseVector(8, {1: 49.0, 5: 171.23, 6: 34.4, 7: 3.0}))]"
      ]
     },
     "execution_count": 22,
     "metadata": {},
     "output_type": "execute_result"
    }
   ],
   "source": [
    "vec.select('features').take(3)"
   ]
  },
  {
   "cell_type": "code",
   "execution_count": 23,
   "metadata": {},
   "outputs": [],
   "source": [
    "scaler = StandardScaler(inputCol='features', outputCol='scaler_features', withMean=True, withStd=True)\n",
    "scaler = scaler.fit(vec)\n",
    "df_final = scaler.transform(vec)"
   ]
  },
  {
   "cell_type": "code",
   "execution_count": 24,
   "metadata": {},
   "outputs": [],
   "source": [
    "df_final = df_final.select('scaler_features', 'stroke')"
   ]
  },
  {
   "cell_type": "code",
   "execution_count": 42,
   "metadata": {},
   "outputs": [
    {
     "name": "stdout",
     "output_type": "stream",
     "text": [
      "+--------------------+------+\n",
      "|     scaler_features|stroke|\n",
      "+--------------------+------+\n",
      "|[1.19830604849670...|     1|\n",
      "|[1.19830604849670...|     1|\n",
      "|[-0.8329385620248...|     1|\n",
      "|[-0.8329385620248...|     1|\n",
      "|[1.19830604849670...|     1|\n",
      "+--------------------+------+\n",
      "only showing top 5 rows\n",
      "\n"
     ]
    }
   ],
   "source": [
    "df_final.show(5)"
   ]
  },
  {
   "cell_type": "code",
   "execution_count": 45,
   "metadata": {},
   "outputs": [
    {
     "name": "stdout",
     "output_type": "stream",
     "text": [
      "+------------------------------------------------------------------------------------------------------------------------------------------------------------------+\n",
      "|scaler_features                                                                                                                                                   |\n",
      "+------------------------------------------------------------------------------------------------------------------------------------------------------------------+\n",
      "|[1.1983060484967045,1.070028960278811,-0.3180343283203816,4.381521946957882,-0.9855394689333665,2.7774154537662934,0.981244921065141,0.8490921279045552]          |\n",
      "|[1.1983060484967045,1.6463948990013098,-0.3180343283203816,4.381521946957882,1.014466009774321,0.013840391682981368,0.45922236369288344,-1.0242531556385743]      |\n",
      "|[-0.8329385620248136,0.271983814355351,-0.3180343283203816,-0.22818470491015116,-0.9855394689333665,1.483980387648291,0.7011352561336855,1.78576476967612]        |\n",
      "|[-0.8329385620248136,1.6020590575611175,3.1436741367012444,-0.22818470491015116,1.014466009774321,1.549034814050676,-0.6230195235422844,-1.0242531556385743]      |\n",
      "|[1.1983060484967045,1.690730740441502,-0.3180343283203816,-0.22818470491015116,-0.9855394689333665,1.8211829161976767,0.013593351301931986,0.8490921279045552]    |\n",
      "|[1.1983060484967045,1.3803798503601565,3.1436741367012444,4.381521946957882,1.014466009774321,-0.7926994346137122,-0.19012276864821745,-1.0242531556385743]       |\n",
      "|[-0.8329385620248136,1.1587006431591953,-0.3180343283203816,-0.22818470491015116,-0.9855394689333665,-0.2457020084621729,-0.7758066135048962,-1.0242531556385743] |\n",
      "|[-0.8329385620248136,1.5577232161209253,-0.3180343283203816,-0.22818470491015116,-0.9855394689333665,-1.0520167329374048,-0.5975550085485158,-0.08758051386700956]|\n",
      "|[-0.8329385620248136,1.690730740441502,3.1436741367012444,-0.22818470491015116,1.014466009774321,-0.559944151222481,0.1027191537801222,-1.0242531556385743]       |\n",
      "|[-0.8329385620248136,0.8040139116376577,-0.3180343283203816,4.381521946957882,1.014466009774321,0.3411384400880586,1.0067094360589093,1.78576476967612]           |\n",
      "|[-0.8329385620248136,0.4936630215563121,-0.3180343283203816,-0.22818470491015116,-0.9855394689333665,-0.017898965143095528,-0.20285502614510148,1.78576476967612] |\n",
      "|[-0.8329385620248136,1.6020590575611175,-0.3180343283203816,4.381521946957882,-0.9855394689333665,2.4487667944324465,-0.08826470867314272,-1.0242531556385743]    |\n",
      "|[-0.8329385620248136,0.3163196557955432,3.1436741367012444,-0.22818470491015116,1.014466009774321,1.3979914918499834,0.255506243742734,-1.0242531556385743]       |\n",
      "|[1.1983060484967045,0.9370214359582343,-0.3180343283203816,4.381521946957882,-0.9855394689333665,1.9427378997869076,1.0958352385370997,1.78576476967612]          |\n",
      "|[1.1983060484967045,1.4247156918003487,3.1436741367012444,-0.22818470491015116,-0.9855394689333665,2.6108401058847543,-0.3938388885983664,1.78576476967612]       |\n",
      "|[-0.8329385620248136,0.7596780701974654,-0.3180343283203816,-0.22818470491015116,-0.9855394689333665,-0.3620796501577885,1.1340320110277524,-1.0242531556385743]  |\n",
      "|[-0.8329385620248136,1.2473723260395797,-0.3180343283203816,-0.22818470491015116,1.014466009774321,1.9951866241874459,-0.8267356434924338,1.78576476967612]       |\n",
      "|[-0.8329385620248136,0.4049913386759277,3.1436741367012444,-0.22818470491015116,-0.9855394689333665,2.880962291638601,2.547312593181913,-1.0242531556385743]      |\n",
      "|[-0.8329385620248136,1.6020590575611175,-0.3180343283203816,-0.22818470491015116,-0.9855394689333665,2.7776405555877544,-0.2919808286232917,-1.0242531556385743]  |\n",
      "|[1.1983060484967045,1.7350665818816942,-0.3180343283203816,4.381521946957882,1.014466009774321,2.3184328398062157,0.45922236369288344,-0.08758051386700956]       |\n",
      "+------------------------------------------------------------------------------------------------------------------------------------------------------------------+\n",
      "only showing top 20 rows\n",
      "\n"
     ]
    }
   ],
   "source": [
    "df_final.select('scaler_features').show(truncate = False)"
   ]
  },
  {
   "cell_type": "code",
   "execution_count": 40,
   "metadata": {},
   "outputs": [
    {
     "data": {
      "text/plain": [
       "[['scaler_feature']]"
      ]
     },
     "execution_count": 40,
     "metadata": {},
     "output_type": "execute_result"
    }
   ],
   "source": [
    "df_scaler"
   ]
  },
  {
   "cell_type": "code",
   "execution_count": 26,
   "metadata": {},
   "outputs": [
    {
     "data": {
      "text/plain": [
       "3422"
      ]
     },
     "execution_count": 26,
     "metadata": {},
     "output_type": "execute_result"
    }
   ],
   "source": [
    "train, test = df_final.randomSplit([0.7,0.3])\n",
    "train.count()"
   ]
  },
  {
   "cell_type": "code",
   "execution_count": 27,
   "metadata": {},
   "outputs": [],
   "source": [
    "regre = LogisticRegression(featuresCol='scaler_features', labelCol='stroke')\n",
    "regre_md = regre.fit(train)\n",
    "y_pred = regre_md.transform(test)"
   ]
  },
  {
   "cell_type": "code",
   "execution_count": 28,
   "metadata": {},
   "outputs": [
    {
     "name": "stdout",
     "output_type": "stream",
     "text": [
      "+--------------------+------+--------------------+--------------------+----------+\n",
      "|     scaler_features|stroke|       rawPrediction|         probability|prediction|\n",
      "+--------------------+------+--------------------+--------------------+----------+\n",
      "|[-0.8329385620248...|     0|[6.62091113461281...|[0.99866955587585...|       0.0|\n",
      "|[-0.8329385620248...|     0|[7.10637366097601...|[0.99918080891620...|       0.0|\n",
      "|[-0.8329385620248...|     0|[6.95069139760063...|[0.99904294424844...|       0.0|\n",
      "|[-0.8329385620248...|     0|[6.91116138826122...|[0.99900439253715...|       0.0|\n",
      "|[-0.8329385620248...|     0|[6.95971045246054...|[0.99905152902832...|       0.0|\n",
      "+--------------------+------+--------------------+--------------------+----------+\n",
      "only showing top 5 rows\n",
      "\n"
     ]
    }
   ],
   "source": [
    "y_pred.show(5)"
   ]
  },
  {
   "cell_type": "code",
   "execution_count": 52,
   "metadata": {},
   "outputs": [
    {
     "data": {
      "text/plain": [
       "0.9623402824478816"
      ]
     },
     "execution_count": 52,
     "metadata": {},
     "output_type": "execute_result"
    }
   ],
   "source": [
    "from pyspark.ml.evaluation import MulticlassClassificationEvaluator\n",
    "\n",
    "mul_ev = MulticlassClassificationEvaluator(labelCol='stroke', metricName='accuracy')\n",
    "mul_ev.evaluate(y_pred)"
   ]
  }
 ],
 "metadata": {
  "kernelspec": {
   "display_name": "Python 3",
   "language": "python",
   "name": "python3"
  },
  "language_info": {
   "codemirror_mode": {
    "name": "ipython",
    "version": 3
   },
   "file_extension": ".py",
   "mimetype": "text/x-python",
   "name": "python",
   "nbconvert_exporter": "python",
   "pygments_lexer": "ipython3",
   "version": "3.12.3"
  }
 },
 "nbformat": 4,
 "nbformat_minor": 2
}
